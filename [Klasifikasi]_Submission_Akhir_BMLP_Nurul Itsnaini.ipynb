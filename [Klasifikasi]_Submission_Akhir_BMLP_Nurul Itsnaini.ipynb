{
  "cells": [
    {
      "cell_type": "markdown",
      "metadata": {
        "id": "fKADPWcFKlj3"
      },
      "source": [
        "# **1. Import Library**"
      ]
    },
    {
      "cell_type": "markdown",
      "metadata": {
        "id": "LgA3ERnVn84N"
      },
      "source": [
        "Pada tahap ini, Anda perlu mengimpor beberapa pustaka (library) Python yang dibutuhkan untuk analisis data dan pembangunan model machine learning."
      ]
    },
    {
      "cell_type": "code",
      "execution_count": 535,
      "metadata": {
        "id": "BlmvjLY9M4Yj"
      },
      "outputs": [],
      "source": [
        "import pandas as pd\n",
        "import numpy as np\n",
        "import seaborn as sns\n",
        "import matplotlib.pyplot as plt\n",
        "from sklearn.model_selection import train_test_split\n",
        "from sklearn.preprocessing import LabelEncoder, MinMaxScaler, StandardScaler\n",
        "from sklearn.neighbors import KNeighborsClassifier\n",
        "from sklearn.svm import SVC\n",
        "from sklearn.metrics import accuracy_score, f1_score\n",
        "from sklearn.model_selection import GridSearchCV"
      ]
    },
    {
      "cell_type": "markdown",
      "metadata": {
        "id": "f3YIEnAFKrKL"
      },
      "source": [
        "# **2. Memuat Dataset dari Hasil Clustering**"
      ]
    },
    {
      "cell_type": "markdown",
      "metadata": {
        "id": "Ey3ItwTen_7E"
      },
      "source": [
        "Memuat dataset hasil clustering dari file CSV ke dalam variabel DataFrame."
      ]
    },
    {
      "cell_type": "code",
      "execution_count": 536,
      "metadata": {
        "id": "GHCGNTyrM5fS"
      },
      "outputs": [
        {
          "data": {
            "text/html": [
              "<div>\n",
              "<style scoped>\n",
              "    .dataframe tbody tr th:only-of-type {\n",
              "        vertical-align: middle;\n",
              "    }\n",
              "\n",
              "    .dataframe tbody tr th {\n",
              "        vertical-align: top;\n",
              "    }\n",
              "\n",
              "    .dataframe thead th {\n",
              "        text-align: right;\n",
              "    }\n",
              "</style>\n",
              "<table border=\"1\" class=\"dataframe\">\n",
              "  <thead>\n",
              "    <tr style=\"text-align: right;\">\n",
              "      <th></th>\n",
              "      <th>Unnamed: 0</th>\n",
              "      <th>Unit_Price</th>\n",
              "      <th>Quantity</th>\n",
              "      <th>Discount</th>\n",
              "      <th>Total_Price</th>\n",
              "      <th>Cluster</th>\n",
              "      <th>Category</th>\n",
              "    </tr>\n",
              "  </thead>\n",
              "  <tbody>\n",
              "    <tr>\n",
              "      <th>0</th>\n",
              "      <td>0</td>\n",
              "      <td>1.66</td>\n",
              "      <td>53.0</td>\n",
              "      <td>0.10</td>\n",
              "      <td>79.18</td>\n",
              "      <td>2</td>\n",
              "      <td>Water</td>\n",
              "    </tr>\n",
              "    <tr>\n",
              "      <th>1</th>\n",
              "      <td>4</td>\n",
              "      <td>0.87</td>\n",
              "      <td>35.0</td>\n",
              "      <td>0.10</td>\n",
              "      <td>27.40</td>\n",
              "      <td>2</td>\n",
              "      <td>Water</td>\n",
              "    </tr>\n",
              "    <tr>\n",
              "      <th>2</th>\n",
              "      <td>6</td>\n",
              "      <td>2.14</td>\n",
              "      <td>44.0</td>\n",
              "      <td>0.10</td>\n",
              "      <td>84.74</td>\n",
              "      <td>1</td>\n",
              "      <td>Juices</td>\n",
              "    </tr>\n",
              "    <tr>\n",
              "      <th>3</th>\n",
              "      <td>7</td>\n",
              "      <td>0.43</td>\n",
              "      <td>13.0</td>\n",
              "      <td>0.05</td>\n",
              "      <td>5.31</td>\n",
              "      <td>2</td>\n",
              "      <td>Water</td>\n",
              "    </tr>\n",
              "    <tr>\n",
              "      <th>4</th>\n",
              "      <td>9</td>\n",
              "      <td>1.38</td>\n",
              "      <td>3.0</td>\n",
              "      <td>0.05</td>\n",
              "      <td>3.93</td>\n",
              "      <td>2</td>\n",
              "      <td>Water</td>\n",
              "    </tr>\n",
              "    <tr>\n",
              "      <th>...</th>\n",
              "      <td>...</td>\n",
              "      <td>...</td>\n",
              "      <td>...</td>\n",
              "      <td>...</td>\n",
              "      <td>...</td>\n",
              "      <td>...</td>\n",
              "      <td>...</td>\n",
              "    </tr>\n",
              "    <tr>\n",
              "      <th>3704</th>\n",
              "      <td>4994</td>\n",
              "      <td>0.47</td>\n",
              "      <td>13.0</td>\n",
              "      <td>0.00</td>\n",
              "      <td>6.11</td>\n",
              "      <td>2</td>\n",
              "      <td>Water</td>\n",
              "    </tr>\n",
              "    <tr>\n",
              "      <th>3705</th>\n",
              "      <td>4995</td>\n",
              "      <td>0.61</td>\n",
              "      <td>4.0</td>\n",
              "      <td>0.00</td>\n",
              "      <td>2.44</td>\n",
              "      <td>0</td>\n",
              "      <td>Soft Drinks</td>\n",
              "    </tr>\n",
              "    <tr>\n",
              "      <th>3706</th>\n",
              "      <td>4996</td>\n",
              "      <td>1.64</td>\n",
              "      <td>11.0</td>\n",
              "      <td>0.00</td>\n",
              "      <td>18.04</td>\n",
              "      <td>1</td>\n",
              "      <td>Juices</td>\n",
              "    </tr>\n",
              "    <tr>\n",
              "      <th>3707</th>\n",
              "      <td>4997</td>\n",
              "      <td>0.59</td>\n",
              "      <td>14.0</td>\n",
              "      <td>0.00</td>\n",
              "      <td>8.26</td>\n",
              "      <td>2</td>\n",
              "      <td>Water</td>\n",
              "    </tr>\n",
              "    <tr>\n",
              "      <th>3708</th>\n",
              "      <td>4999</td>\n",
              "      <td>2.47</td>\n",
              "      <td>14.0</td>\n",
              "      <td>0.05</td>\n",
              "      <td>32.85</td>\n",
              "      <td>0</td>\n",
              "      <td>Soft Drinks</td>\n",
              "    </tr>\n",
              "  </tbody>\n",
              "</table>\n",
              "<p>3709 rows × 7 columns</p>\n",
              "</div>"
            ],
            "text/plain": [
              "      Unnamed: 0  Unit_Price  Quantity  Discount  Total_Price  Cluster  \\\n",
              "0              0        1.66      53.0      0.10        79.18        2   \n",
              "1              4        0.87      35.0      0.10        27.40        2   \n",
              "2              6        2.14      44.0      0.10        84.74        1   \n",
              "3              7        0.43      13.0      0.05         5.31        2   \n",
              "4              9        1.38       3.0      0.05         3.93        2   \n",
              "...          ...         ...       ...       ...          ...      ...   \n",
              "3704        4994        0.47      13.0      0.00         6.11        2   \n",
              "3705        4995        0.61       4.0      0.00         2.44        0   \n",
              "3706        4996        1.64      11.0      0.00        18.04        1   \n",
              "3707        4997        0.59      14.0      0.00         8.26        2   \n",
              "3708        4999        2.47      14.0      0.05        32.85        0   \n",
              "\n",
              "         Category  \n",
              "0           Water  \n",
              "1           Water  \n",
              "2          Juices  \n",
              "3           Water  \n",
              "4           Water  \n",
              "...           ...  \n",
              "3704        Water  \n",
              "3705  Soft Drinks  \n",
              "3706       Juices  \n",
              "3707        Water  \n",
              "3708  Soft Drinks  \n",
              "\n",
              "[3709 rows x 7 columns]"
            ]
          },
          "execution_count": 536,
          "metadata": {},
          "output_type": "execute_result"
        }
      ],
      "source": [
        "# Memuat dataset hasil clustering\n",
        "df = pd.read_csv(\"Dataset_inisiasi.csv\")\n",
        "df"
      ]
    },
    {
      "cell_type": "code",
      "execution_count": 537,
      "metadata": {},
      "outputs": [
        {
          "name": "stdout",
          "output_type": "stream",
          "text": [
            "<class 'pandas.core.frame.DataFrame'>\n",
            "RangeIndex: 3709 entries, 0 to 3708\n",
            "Data columns (total 7 columns):\n",
            " #   Column       Non-Null Count  Dtype  \n",
            "---  ------       --------------  -----  \n",
            " 0   Unnamed: 0   3709 non-null   int64  \n",
            " 1   Unit_Price   3709 non-null   float64\n",
            " 2   Quantity     3709 non-null   float64\n",
            " 3   Discount     3709 non-null   float64\n",
            " 4   Total_Price  3709 non-null   float64\n",
            " 5   Cluster      3709 non-null   int64  \n",
            " 6   Category     3709 non-null   object \n",
            "dtypes: float64(4), int64(2), object(1)\n",
            "memory usage: 203.0+ KB\n"
          ]
        }
      ],
      "source": [
        "df.info()"
      ]
    },
    {
      "cell_type": "markdown",
      "metadata": {
        "id": "KkPem5eWL2UP"
      },
      "source": [
        "# **3. Data Splitting**"
      ]
    },
    {
      "cell_type": "markdown",
      "metadata": {
        "id": "YYj1rl_JNI9Y"
      },
      "source": [
        "Tahap Data Splitting bertujuan untuk memisahkan dataset menjadi dua bagian: data latih (training set) dan data uji (test set)."
      ]
    },
    {
      "cell_type": "code",
      "execution_count": 538,
      "metadata": {},
      "outputs": [
        {
          "data": {
            "text/html": [
              "<div>\n",
              "<style scoped>\n",
              "    .dataframe tbody tr th:only-of-type {\n",
              "        vertical-align: middle;\n",
              "    }\n",
              "\n",
              "    .dataframe tbody tr th {\n",
              "        vertical-align: top;\n",
              "    }\n",
              "\n",
              "    .dataframe thead th {\n",
              "        text-align: right;\n",
              "    }\n",
              "</style>\n",
              "<table border=\"1\" class=\"dataframe\">\n",
              "  <thead>\n",
              "    <tr style=\"text-align: right;\">\n",
              "      <th></th>\n",
              "      <th>Unnamed: 0</th>\n",
              "      <th>Unit_Price</th>\n",
              "      <th>Quantity</th>\n",
              "      <th>Discount</th>\n",
              "      <th>Total_Price</th>\n",
              "      <th>Cluster</th>\n",
              "      <th>Category</th>\n",
              "    </tr>\n",
              "  </thead>\n",
              "  <tbody>\n",
              "    <tr>\n",
              "      <th>0</th>\n",
              "      <td>0</td>\n",
              "      <td>1.66</td>\n",
              "      <td>53.0</td>\n",
              "      <td>0.10</td>\n",
              "      <td>79.18</td>\n",
              "      <td>2</td>\n",
              "      <td>3</td>\n",
              "    </tr>\n",
              "    <tr>\n",
              "      <th>1</th>\n",
              "      <td>4</td>\n",
              "      <td>0.87</td>\n",
              "      <td>35.0</td>\n",
              "      <td>0.10</td>\n",
              "      <td>27.40</td>\n",
              "      <td>2</td>\n",
              "      <td>3</td>\n",
              "    </tr>\n",
              "    <tr>\n",
              "      <th>2</th>\n",
              "      <td>6</td>\n",
              "      <td>2.14</td>\n",
              "      <td>44.0</td>\n",
              "      <td>0.10</td>\n",
              "      <td>84.74</td>\n",
              "      <td>1</td>\n",
              "      <td>1</td>\n",
              "    </tr>\n",
              "    <tr>\n",
              "      <th>3</th>\n",
              "      <td>7</td>\n",
              "      <td>0.43</td>\n",
              "      <td>13.0</td>\n",
              "      <td>0.05</td>\n",
              "      <td>5.31</td>\n",
              "      <td>2</td>\n",
              "      <td>3</td>\n",
              "    </tr>\n",
              "    <tr>\n",
              "      <th>4</th>\n",
              "      <td>9</td>\n",
              "      <td>1.38</td>\n",
              "      <td>3.0</td>\n",
              "      <td>0.05</td>\n",
              "      <td>3.93</td>\n",
              "      <td>2</td>\n",
              "      <td>3</td>\n",
              "    </tr>\n",
              "    <tr>\n",
              "      <th>...</th>\n",
              "      <td>...</td>\n",
              "      <td>...</td>\n",
              "      <td>...</td>\n",
              "      <td>...</td>\n",
              "      <td>...</td>\n",
              "      <td>...</td>\n",
              "      <td>...</td>\n",
              "    </tr>\n",
              "    <tr>\n",
              "      <th>3704</th>\n",
              "      <td>4994</td>\n",
              "      <td>0.47</td>\n",
              "      <td>13.0</td>\n",
              "      <td>0.00</td>\n",
              "      <td>6.11</td>\n",
              "      <td>2</td>\n",
              "      <td>3</td>\n",
              "    </tr>\n",
              "    <tr>\n",
              "      <th>3705</th>\n",
              "      <td>4995</td>\n",
              "      <td>0.61</td>\n",
              "      <td>4.0</td>\n",
              "      <td>0.00</td>\n",
              "      <td>2.44</td>\n",
              "      <td>0</td>\n",
              "      <td>2</td>\n",
              "    </tr>\n",
              "    <tr>\n",
              "      <th>3706</th>\n",
              "      <td>4996</td>\n",
              "      <td>1.64</td>\n",
              "      <td>11.0</td>\n",
              "      <td>0.00</td>\n",
              "      <td>18.04</td>\n",
              "      <td>1</td>\n",
              "      <td>1</td>\n",
              "    </tr>\n",
              "    <tr>\n",
              "      <th>3707</th>\n",
              "      <td>4997</td>\n",
              "      <td>0.59</td>\n",
              "      <td>14.0</td>\n",
              "      <td>0.00</td>\n",
              "      <td>8.26</td>\n",
              "      <td>2</td>\n",
              "      <td>3</td>\n",
              "    </tr>\n",
              "    <tr>\n",
              "      <th>3708</th>\n",
              "      <td>4999</td>\n",
              "      <td>2.47</td>\n",
              "      <td>14.0</td>\n",
              "      <td>0.05</td>\n",
              "      <td>32.85</td>\n",
              "      <td>0</td>\n",
              "      <td>2</td>\n",
              "    </tr>\n",
              "  </tbody>\n",
              "</table>\n",
              "<p>3709 rows × 7 columns</p>\n",
              "</div>"
            ],
            "text/plain": [
              "      Unnamed: 0  Unit_Price  Quantity  Discount  Total_Price  Cluster  \\\n",
              "0              0        1.66      53.0      0.10        79.18        2   \n",
              "1              4        0.87      35.0      0.10        27.40        2   \n",
              "2              6        2.14      44.0      0.10        84.74        1   \n",
              "3              7        0.43      13.0      0.05         5.31        2   \n",
              "4              9        1.38       3.0      0.05         3.93        2   \n",
              "...          ...         ...       ...       ...          ...      ...   \n",
              "3704        4994        0.47      13.0      0.00         6.11        2   \n",
              "3705        4995        0.61       4.0      0.00         2.44        0   \n",
              "3706        4996        1.64      11.0      0.00        18.04        1   \n",
              "3707        4997        0.59      14.0      0.00         8.26        2   \n",
              "3708        4999        2.47      14.0      0.05        32.85        0   \n",
              "\n",
              "      Category  \n",
              "0            3  \n",
              "1            3  \n",
              "2            1  \n",
              "3            3  \n",
              "4            3  \n",
              "...        ...  \n",
              "3704         3  \n",
              "3705         2  \n",
              "3706         1  \n",
              "3707         3  \n",
              "3708         2  \n",
              "\n",
              "[3709 rows x 7 columns]"
            ]
          },
          "execution_count": 538,
          "metadata": {},
          "output_type": "execute_result"
        }
      ],
      "source": [
        "# Melakukan encoding pada fitur kategorikal\n",
        "le = LabelEncoder()\n",
        "df['Category'] = le.fit_transform(df['Category'])\n",
        "df"
      ]
    },
    {
      "cell_type": "code",
      "execution_count": 539,
      "metadata": {},
      "outputs": [],
      "source": [
        "# Memisahkan fitur (X) dan target (y)\n",
        "X = df.drop(columns = ['Cluster'])\n",
        "y = df['Cluster']"
      ]
    },
    {
      "cell_type": "code",
      "execution_count": 540,
      "metadata": {},
      "outputs": [],
      "source": [
        "# Melakukan normalisasi untuk fitur numerik\n",
        "scaler = StandardScaler()\n",
        "X_scaler = scaler.fit_transform(X)"
      ]
    },
    {
      "cell_type": "code",
      "execution_count": 541,
      "metadata": {},
      "outputs": [],
      "source": [
        "# Melakukan split data \n",
        "X_train, X_test, y_train, y_test = train_test_split(X_scaler, y, test_size=0.2, random_state=42)"
      ]
    },
    {
      "cell_type": "markdown",
      "metadata": {
        "id": "IVPbB03CMhTT"
      },
      "source": [
        "# **4. Membangun Model Klasifikasi**\n"
      ]
    },
    {
      "cell_type": "markdown",
      "metadata": {
        "id": "Ned1pL9zMmBK"
      },
      "source": [
        "## **a. Membangun Model Klasifikasi**"
      ]
    },
    {
      "cell_type": "markdown",
      "metadata": {
        "id": "WAWzPOE4Nkti"
      },
      "source": [
        "Setelah memilih algoritma klasifikasi yang sesuai, langkah selanjutnya adalah melatih model menggunakan data latih.\n",
        "\n",
        "Berikut adalah rekomendasi tahapannya.\n",
        "1. Pilih algoritma klasifikasi yang sesuai, seperti Logistic Regression, Decision Tree, Random Forest, atau K-Nearest Neighbors (KNN).\n",
        "2. Latih model menggunakan data latih."
      ]
    },
    {
      "cell_type": "code",
      "execution_count": 542,
      "metadata": {
        "id": "4JYxBe87NLDk"
      },
      "outputs": [],
      "source": [
        "# Membangun model KNN\n",
        "model_knn = KNeighborsClassifier(n_neighbors=5)\n",
        "model_knn.fit(X_train, y_train)\n",
        "y_train_pred_knn = model_knn.predict(X_train)\n",
        "y_test_pred_knn = model_knn.predict(X_test)"
      ]
    },
    {
      "cell_type": "code",
      "execution_count": 543,
      "metadata": {},
      "outputs": [],
      "source": [
        "# Membangun model SVM\n",
        "model_svm = SVC(kernel='rbf', C=1.0, gamma='scale', random_state=42)\n",
        "model_svm.fit(X_train, y_train)\n",
        "y_train_pred_svm = model_svm.predict(X_train)\n",
        "y_test_pred_svm = model_svm.predict(X_test)"
      ]
    },
    {
      "cell_type": "markdown",
      "metadata": {
        "id": "seYoHNY3XU1y"
      },
      "source": [
        "Tulis narasi atau penjelasan algoritma yang Anda gunakan."
      ]
    },
    {
      "cell_type": "markdown",
      "metadata": {
        "id": "ergzChZFEL-O"
      },
      "source": [
        "## **b. Evaluasi Model Klasifikasi**"
      ]
    },
    {
      "cell_type": "markdown",
      "metadata": {
        "id": "zOm68u-7NpLT"
      },
      "source": [
        "Berikut adalah **rekomendasi** tahapannya.\n",
        "1. Lakukan prediksi menggunakan data uji.\n",
        "2. Hitung metrik evaluasi seperti Accuracy dan F1-Score (Opsional: Precision dan Recall).\n",
        "3. Buat confusion matrix untuk melihat detail prediksi benar dan salah."
      ]
    },
    {
      "cell_type": "markdown",
      "metadata": {
        "id": "H4_9OwrsXZlz"
      },
      "source": [
        "Tulis hasil evaluasi algoritma yang digunakan, jika Anda menggunakan 2 algoritma, maka bandingkan hasilnya."
      ]
    },
    {
      "cell_type": "code",
      "execution_count": 544,
      "metadata": {},
      "outputs": [
        {
          "name": "stdout",
          "output_type": "stream",
          "text": [
            "Akurasi pada data train KNN: 0.9929\n",
            "F1-Score pada data train KNN: 0.9929\n",
            "Akurasi pada data test KNN: 0.9906\n",
            "F1-Score pada data test KNN: 0.9906\n"
          ]
        }
      ],
      "source": [
        "# Evaluasi KNN\n",
        "## Akurasi dan f1 score pada data train\n",
        "train_accuracy_knn = accuracy_score(y_train, y_train_pred_knn)\n",
        "train_f1_knn = f1_score(y_train,y_train_pred_knn, average = \"weighted\")\n",
        "print(f'Akurasi pada data train KNN: {train_accuracy_knn:.4f}')\n",
        "print(f'F1-Score pada data train KNN: {train_f1_knn:.4f}')\n",
        "\n",
        "## Akurasi pada data test\n",
        "test_accuracy_knn = accuracy_score(y_test, y_test_pred_knn)\n",
        "test_f1_knn = f1_score(y_test,y_test_pred_knn, average = \"weighted\")\n",
        "print(f'Akurasi pada data test KNN: {test_accuracy_knn:.4f}')\n",
        "print(f'F1-Score pada data test KNN: {test_f1_knn:.4f}')"
      ]
    },
    {
      "cell_type": "code",
      "execution_count": 545,
      "metadata": {},
      "outputs": [
        {
          "name": "stdout",
          "output_type": "stream",
          "text": [
            "Akurasi pada data train: 1.0000\n",
            "F1-Score pada data train: 1.0000\n",
            "Akurasi pada data test: 1.0000\n",
            "F1-Score pada data test: 1.0000\n"
          ]
        }
      ],
      "source": [
        "# Evaluasi SVM\n",
        "## Akurasi dan f1 score pada data train\n",
        "train_accuracy_svm = accuracy_score(y_train, y_train_pred_svm)\n",
        "train_f1_svm = f1_score(y_train,y_train_pred_svm, average = \"weighted\")\n",
        "print(f'Akurasi pada data train: {train_accuracy_svm:.4f}')\n",
        "print(f'F1-Score pada data train: {train_f1_svm:.4f}')\n",
        "\n",
        "## Akurasi pada data test\n",
        "test_accuracy_svm = accuracy_score(y_test, y_test_pred_svm)\n",
        "test_f1_svm = f1_score(y_test,y_test_pred_svm, average = \"weighted\")\n",
        "print(f'Akurasi pada data test: {test_accuracy_svm:.4f}')\n",
        "print(f'F1-Score pada data test: {test_f1_svm:.4f}')"
      ]
    },
    {
      "cell_type": "markdown",
      "metadata": {
        "id": "ph9yIYDXEPuB"
      },
      "source": [
        "## **c. Tuning Model Klasifikasi (Optional)**"
      ]
    },
    {
      "cell_type": "markdown",
      "metadata": {
        "id": "-Bikx3LINv5e"
      },
      "source": [
        "Gunakan GridSearchCV, RandomizedSearchCV, atau metode lainnya untuk mencari kombinasi hyperparameter terbaik"
      ]
    },
    {
      "cell_type": "code",
      "execution_count": 546,
      "metadata": {
        "id": "winbFzb8NL95"
      },
      "outputs": [
        {
          "name": "stdout",
          "output_type": "stream",
          "text": [
            "Fitting 5 folds for each of 120 candidates, totalling 600 fits\n",
            "Best Parameters: {'metric': 'manhattan', 'n_neighbors': 5, 'weights': 'distance'}\n",
            "Best Accuracy: 0.9925846435121309\n"
          ]
        }
      ],
      "source": [
        "# Tuning model KNN menggunakan GridSearch\n",
        "# Definisi parameter yang akan diuji\n",
        "param_grid = {\n",
        "    'n_neighbors': list(range(1, 21)),  # Jumlah tetangga dari 1 hingga 20\n",
        "    'weights': ['uniform', 'distance'],  # Skema pembobotan\n",
        "    'metric': ['euclidean', 'manhattan', 'minkowski']  # Metode pengukuran jarak\n",
        "}\n",
        "\n",
        "# Inisialisasi model KNN\n",
        "model_knn = KNeighborsClassifier()\n",
        "\n",
        "# Grid Search dengan cross-validation 5-fold\n",
        "grid_search_knn = GridSearchCV(\n",
        "    model_knn, param_grid, \n",
        "    cv=5, scoring='accuracy', \n",
        "    n_jobs=-1, verbose=2\n",
        ")\n",
        "\n",
        "# Training dengan pencarian hyperparameter\n",
        "grid_search_knn.fit(X_train, y_train)\n",
        "\n",
        "# Menampilkan hasil terbaik\n",
        "print(\"Best Parameters:\", grid_search_knn.best_params_)\n",
        "print(\"Best Accuracy:\", grid_search_knn.best_score_)\n",
        "\n",
        "# Menggunakan model terbaik\n",
        "best_knn = grid_search_knn.best_estimator_"
      ]
    },
    {
      "cell_type": "code",
      "execution_count": 547,
      "metadata": {},
      "outputs": [
        {
          "name": "stdout",
          "output_type": "stream",
          "text": [
            "Fitting 5 folds for each of 120 candidates, totalling 600 fits\n",
            "Best Parameters: {'C': 0.01, 'gamma': 'scale', 'kernel': 'linear'}\n",
            "Best Accuracy: 1.0\n"
          ]
        }
      ],
      "source": [
        "# Tuning model SVM menggunakan GridSearch\n",
        "# Definisi parameter yang akan diuji\n",
        "param_grid = {\n",
        "    'C': [0.01, 0.1, 1, 10, 100],  # Regularisasi\n",
        "    'gamma': ['scale', 'auto', 0.001, 0.01, 0.1, 1],  # Parameter kernel RBF\n",
        "    'kernel': ['rbf', 'linear', 'poly', 'sigmoid']  # Jenis kernel yang diuji\n",
        "}\n",
        "\n",
        "# Inisialisasi model SVM\n",
        "model_svm = SVC(random_state=42)\n",
        "\n",
        "# Grid Search dengan cross-validation 5-fold\n",
        "grid_search_svm = GridSearchCV(\n",
        "    model_svm, param_grid, \n",
        "    cv=5, scoring='accuracy', \n",
        "    n_jobs=-1, verbose=2\n",
        ")\n",
        "\n",
        "# Training dengan pencarian hyperparameter\n",
        "grid_search_svm.fit(X_train, y_train)\n",
        "\n",
        "# Menampilkan hasil terbaik\n",
        "print(\"Best Parameters:\", grid_search_svm.best_params_)\n",
        "print(\"Best Accuracy:\", grid_search_svm.best_score_)\n",
        "\n",
        "# Menggunakan model terbaik\n",
        "best_svm = grid_search_svm.best_estimator_"
      ]
    },
    {
      "cell_type": "markdown",
      "metadata": {
        "id": "hE7pqlEPEYzI"
      },
      "source": [
        "## **d. Evaluasi Model Klasifikasi setelah Tuning (Optional)**"
      ]
    },
    {
      "cell_type": "markdown",
      "metadata": {
        "id": "feaPESoeN0zz"
      },
      "source": [
        "Berikut adalah rekomendasi tahapannya.\n",
        "1. Gunakan model dengan hyperparameter terbaik.\n",
        "2. Hitung ulang metrik evaluasi untuk melihat apakah ada peningkatan performa."
      ]
    },
    {
      "cell_type": "code",
      "execution_count": 548,
      "metadata": {
        "id": "HTXZRvEeNMb1"
      },
      "outputs": [
        {
          "name": "stdout",
          "output_type": "stream",
          "text": [
            "Akurasi pada data train KNN setelah tuning: 0.9929\n",
            "F1-Score pada data train KNN setelah tuning: 0.9929\n",
            "Akurasi pada data test KNN setelah tuning: 0.9933\n",
            "F1-Score pada data test KNN setelah tuning: 0.9933\n"
          ]
        }
      ],
      "source": [
        "# Mengevaluasi model KNN setelah tuning\n",
        "# Evaluasi pada data test\n",
        "y_test_pred_knn = best_knn.predict(X_test)\n",
        "train_accuracy_knn = accuracy_score(y_train, y_train_pred_knn)\n",
        "train_f1_knn = f1_score(y_train, y_train_pred_knn, average=\"weighted\")\n",
        "test_accuracy_knn = accuracy_score(y_test, y_test_pred_knn)\n",
        "test_f1_knn = f1_score(y_test, y_test_pred_knn, average=\"weighted\")\n",
        "print(f'Akurasi pada data train KNN setelah tuning: {train_accuracy_knn:.4f}')\n",
        "print(f'F1-Score pada data train KNN setelah tuning: {train_f1_knn:.4f}')\n",
        "print(f'Akurasi pada data test KNN setelah tuning: {test_accuracy_knn:.4f}')\n",
        "print(f'F1-Score pada data test KNN setelah tuning: {test_f1_knn:.4f}')"
      ]
    },
    {
      "cell_type": "code",
      "execution_count": 549,
      "metadata": {},
      "outputs": [
        {
          "name": "stdout",
          "output_type": "stream",
          "text": [
            "Akurasi pada data train SVM setelah tuning: 1.0000\n",
            "F1-Score pada data train SVM setelah tuning: 1.0000\n",
            "Akurasi pada data test SVM setelah tuning: 1.0000\n",
            "F1-Score pada data test SVM setelah tuning: 1.0000\n"
          ]
        }
      ],
      "source": [
        "# Evaluasi pada data test\n",
        "y_test_pred_svm = best_svm.predict(X_test)\n",
        "train_accuracy_svm = accuracy_score(y_train, y_train_pred_svm)\n",
        "train_f1_svm = f1_score(y_train, y_train_pred_svm, average=\"weighted\")\n",
        "test_accuracy_svm = accuracy_score(y_test, y_test_pred_svm)\n",
        "test_f1_svm = f1_score(y_test, y_test_pred_svm, average=\"weighted\")\n",
        "print(f'Akurasi pada data train SVM setelah tuning: {train_accuracy_svm:.4f}')\n",
        "print(f'F1-Score pada data train SVM setelah tuning: {train_f1_svm:.4f}')\n",
        "print(f'Akurasi pada data test SVM setelah tuning: {test_accuracy_svm:.4f}')\n",
        "print(f'F1-Score pada data test SVM setelah tuning: {test_f1_svm:.4f}')"
      ]
    },
    {
      "cell_type": "markdown",
      "metadata": {
        "id": "ZRsOdm4uEgAW"
      },
      "source": [
        "## **e. Analisis Hasil Evaluasi Model Klasifikasi**"
      ]
    },
    {
      "cell_type": "markdown",
      "metadata": {
        "id": "Hm3BhSi6N4_l"
      },
      "source": [
        "1. Perbandingan hasil evaluasi sebelum dan setelah tuning \n",
        "    - **KNN**\n",
        "      - Akurasi data test mengalami kenaikan, sedangkan pada data train tetap. Akurasi data test dari **0.9906** menjadi **0.9933**. Ini menunjukkan bahwa tuning memberikan peningkatan signifikan, dan model stabil serta tidak overfitting.\n",
        "    - **SVM**\n",
        "      - Akurasi data train dan data test tetap, yakni tidak ada perubahan nilai akurasi (1.000). Hal ini menunjukkan bahwa kemungkinan besar model mengalami overfitting.\n",
        "2. Identifikasi kelemahan model\n",
        "    - **KNN**\n",
        "      - Model tidak mengalami overfitting maupun underfitting.\n",
        "      - Akurasi yang meningkat menunjukkan model cukup baik dalam menggeneralisasi data baru.\n",
        "    - **SVM**\n",
        "      - Model kemungkinan besar mengalami overfitting\n",
        "3. Rekomendasi tindakan lanjutan\n",
        "      - Mengevaluasi model SVM menggunakan cross-validation"
      ]
    }
  ],
  "metadata": {
    "colab": {
      "provenance": []
    },
    "kernelspec": {
      "display_name": "Python 3",
      "name": "python3"
    },
    "language_info": {
      "codemirror_mode": {
        "name": "ipython",
        "version": 3
      },
      "file_extension": ".py",
      "mimetype": "text/x-python",
      "name": "python",
      "nbconvert_exporter": "python",
      "pygments_lexer": "ipython3",
      "version": "3.13.2"
    }
  },
  "nbformat": 4,
  "nbformat_minor": 0
}
